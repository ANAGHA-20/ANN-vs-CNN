{
  "nbformat": 4,
  "nbformat_minor": 0,
  "metadata": {
    "colab": {
      "name": "AnnVSCnn.ipynb",
      "provenance": [],
      "collapsed_sections": [],
      "authorship_tag": "ABX9TyPiDVbs/Ltxiv1HcLixxhn0",
      "include_colab_link": true
    },
    "kernelspec": {
      "name": "python3",
      "display_name": "Python 3"
    }
  },
  "cells": [
    {
      "cell_type": "markdown",
      "metadata": {
        "id": "view-in-github",
        "colab_type": "text"
      },
      "source": [
        "<a href=\"https://colab.research.google.com/github/ANAGHA-20/helloGithub/blob/main/AnnVSCnn.ipynb\" target=\"_parent\"><img src=\"https://colab.research.google.com/assets/colab-badge.svg\" alt=\"Open In Colab\"/></a>"
      ]
    },
    {
      "cell_type": "code",
      "metadata": {
        "id": "d3H0kEtr0Wie"
      },
      "source": [
        "import tensorflow as tf\n",
        "from tensorflow.keras import datasets, layers, models\n",
        "import matplotlib.pyplot as plt\n",
        "import numpy as np\n",
        "\n",
        "from sklearn.metrics import confusion_matrix, classification_report"
      ],
      "execution_count": 1,
      "outputs": []
    },
    {
      "cell_type": "code",
      "metadata": {
        "id": "YOyKyW7x0lwu"
      },
      "source": [
        "classes=['aeroplane','automobile','bird','cat','deer','dog','frog','horse','truck','ship']\n"
      ],
      "execution_count": 2,
      "outputs": []
    },
    {
      "cell_type": "code",
      "metadata": {
        "colab": {
          "base_uri": "https://localhost:8080/"
        },
        "id": "1n2D6eOT0gKH",
        "outputId": "c4a56788-eb37-4ed2-88c8-d8743617c747"
      },
      "source": [
        "(x_train, y_train),(x_test,y_test) = datasets.cifar10.load_data()\n",
        "x_train.shape"
      ],
      "execution_count": 3,
      "outputs": [
        {
          "output_type": "stream",
          "text": [
            "Downloading data from https://www.cs.toronto.edu/~kriz/cifar-10-python.tar.gz\n",
            "170500096/170498071 [==============================] - 4s 0us/step\n"
          ],
          "name": "stdout"
        },
        {
          "output_type": "execute_result",
          "data": {
            "text/plain": [
              "(50000, 32, 32, 3)"
            ]
          },
          "metadata": {
            "tags": []
          },
          "execution_count": 3
        }
      ]
    },
    {
      "cell_type": "code",
      "metadata": {
        "id": "JDpYZo0J0owj",
        "colab": {
          "base_uri": "https://localhost:8080/"
        },
        "outputId": "5dac062a-b8fb-4e60-b386-f16008fa58c1"
      },
      "source": [
        "y_train = y_train.reshape(-1,)\r\n",
        "x_train[6]"
      ],
      "execution_count": 7,
      "outputs": [
        {
          "output_type": "execute_result",
          "data": {
            "text/plain": [
              "array([[[164, 206,  84],\n",
              "        [105, 140,  61],\n",
              "        [118, 148, 101],\n",
              "        ...,\n",
              "        [109, 147,  73],\n",
              "        [108, 147,  69],\n",
              "        [ 91, 129,  57]],\n",
              "\n",
              "       [[167, 213,  84],\n",
              "        [116, 160,  49],\n",
              "        [ 72, 109,  43],\n",
              "        ...,\n",
              "        [105, 142,  79],\n",
              "        [105, 142,  72],\n",
              "        [ 89, 127,  57]],\n",
              "\n",
              "       [[140, 191,  65],\n",
              "        [142, 193,  66],\n",
              "        [119, 163,  79],\n",
              "        ...,\n",
              "        [104, 139,  84],\n",
              "        [ 84, 120,  58],\n",
              "        [ 78, 115,  49]],\n",
              "\n",
              "       ...,\n",
              "\n",
              "       [[139, 148,  81],\n",
              "        [142, 155,  74],\n",
              "        [135, 156,  72],\n",
              "        ...,\n",
              "        [ 89, 134,  28],\n",
              "        [ 97, 148,  24],\n",
              "        [126, 176,  49]],\n",
              "\n",
              "       [[163, 157,  85],\n",
              "        [153, 164,  82],\n",
              "        [146, 164,  90],\n",
              "        ...,\n",
              "        [ 85, 130,  19],\n",
              "        [ 98, 148,  27],\n",
              "        [127, 178,  48]],\n",
              "\n",
              "       [[183, 153, 102],\n",
              "        [176, 182, 116],\n",
              "        [154, 154, 100],\n",
              "        ...,\n",
              "        [ 94, 134,  29],\n",
              "        [ 91, 133,  26],\n",
              "        [122, 170,  44]]], dtype=uint8)"
            ]
          },
          "metadata": {
            "tags": []
          },
          "execution_count": 7
        }
      ]
    },
    {
      "cell_type": "code",
      "metadata": {
        "id": "WSeI6DRh0vDC"
      },
      "source": [
        "def plot_sample(x, y, index):\n",
        "    plt.figure(figsize=(15,2))\n",
        "    plt.imshow(x[index])\n",
        "    plt.xlabel(classes[y[index]])"
      ],
      "execution_count": 5,
      "outputs": []
    },
    {
      "cell_type": "code",
      "metadata": {
        "colab": {
          "base_uri": "https://localhost:8080/",
          "height": 173
        },
        "id": "mmwOa8mw0yG3",
        "outputId": "e6698200-25f2-47fc-b0d6-3430f0a3f5e7"
      },
      "source": [
        "plot_sample(x_train, y_train, 6)"
      ],
      "execution_count": 8,
      "outputs": [
        {
          "output_type": "display_data",
          "data": {
            "image/png": "[encoded data removed]",
            "text/plain": [
              "<Figure size 1080x144 with 1 Axes>"
            ]
          },
          "metadata": {
            "tags": [],
            "needs_background": "light"
          }
        }
      ]
    },
    {
      "cell_type": "code",
      "metadata": {
        "id": "QsFKL9H701TV"
      },
      "source": [
        "x_train, x_test = x_train/255, x_test/255"
      ],
      "execution_count": null,
      "outputs": []
    },
    {
      "cell_type": "code",
      "metadata": {
        "colab": {
          "base_uri": "https://localhost:8080/"
        },
        "id": "xG5JmXdQ045P",
        "outputId": "d3eca512-fe8f-4af4-b3d2-ddfd9448e63c"
      },
      "source": [
        "ann = models.Sequential([\n",
        "    layers.Flatten(input_shape=(32, 32, 3)),\n",
        "    layers.Dense(3000, activation= 'relu'),\n",
        "    layers.Dense(1000, activation= 'relu'),\n",
        "    layers.Dense(10, activation= 'softmax')\n",
        "])\n",
        "\n",
        "ann.compile(optimizer = 'SGD',\n",
        "           loss = 'sparse_categorical_crossentropy',\n",
        "           metrics = ['accuracy'])\n",
        "\n",
        "ann.fit(x_train, y_train, epochs = 5)\n"
      ],
      "execution_count": null,
      "outputs": [
        {
          "output_type": "stream",
          "text": [
            "Epoch 1/5\n",
            "1563/1563 [==============================] - 97s 62ms/step - loss: 1.8122 - accuracy: 0.3547\n",
            "Epoch 2/5\n",
            "1563/1563 [==============================] - 106s 68ms/step - loss: 1.6236 - accuracy: 0.4285\n",
            "Epoch 3/5\n",
            "1563/1563 [==============================] - 103s 66ms/step - loss: 1.5437 - accuracy: 0.4550\n",
            "Epoch 4/5\n",
            "1563/1563 [==============================] - 98s 62ms/step - loss: 1.4832 - accuracy: 0.4762\n",
            "Epoch 5/5\n",
            "1563/1563 [==============================] - 98s 63ms/step - loss: 1.4323 - accuracy: 0.4962\n"
          ],
          "name": "stdout"
        },
        {
          "output_type": "execute_result",
          "data": {
            "text/plain": [
              "<tensorflow.python.keras.callbacks.History at 0x7fbf01450e48>"
            ]
          },
          "metadata": {
            "tags": []
          },
          "execution_count": 25
        }
      ]
    },
    {
      "cell_type": "code",
      "metadata": {
        "id": "WGY1fcX219Au",
        "colab": {
          "base_uri": "https://localhost:8080/"
        },
        "outputId": "6d17521c-3d0c-4a5e-e507-ff2a7d5a80b6"
      },
      "source": [
        "y_pred1 = ann.predict(x_test)\n",
        "y_pred_classes1 = [np.argmax(element) for element in y_pred]\n",
        "\n",
        "print(\"classification report : \\n\", classification_report(y_test,y_pred_classes))"
      ],
      "execution_count": null,
      "outputs": [
        {
          "output_type": "stream",
          "text": [
            "classification report : \n",
            "               precision    recall  f1-score   support\n",
            "\n",
            "           0       0.73      0.77      0.75      1000\n",
            "           1       0.77      0.87      0.82      1000\n",
            "           2       0.53      0.63      0.58      1000\n",
            "           3       0.54      0.45      0.49      1000\n",
            "           4       0.67      0.60      0.63      1000\n",
            "           5       0.62      0.64      0.63      1000\n",
            "           6       0.77      0.80      0.78      1000\n",
            "           7       0.74      0.79      0.76      1000\n",
            "           8       0.79      0.80      0.80      1000\n",
            "           9       0.89      0.68      0.77      1000\n",
            "\n",
            "    accuracy                           0.70     10000\n",
            "   macro avg       0.70      0.70      0.70     10000\n",
            "weighted avg       0.70      0.70      0.70     10000\n",
            "\n"
          ],
          "name": "stdout"
        }
      ]
    },
    {
      "cell_type": "code",
      "metadata": {
        "colab": {
          "base_uri": "https://localhost:8080/"
        },
        "id": "QMmKgN-obkbt",
        "outputId": "64e9a19c-0c3b-4c7a-d28b-aad07b42242c"
      },
      "source": [
        "cnn = models.Sequential([\n",
        "                        layers.Conv2D(filters=32, kernel_size=(3, 3), activation = 'relu', input_shape = (32, 32, 3)),\n",
        "                        layers.MaxPooling2D((2,2)),\n",
        "\n",
        "                        layers.Conv2D(filters=64, kernel_size=(3,3), activation='relu'),\n",
        "                        layers.MaxPooling2D((2,2)),\n",
        "\n",
        "                        layers.Flatten(),\n",
        "                        layers.Dense(64, activation='relu'),\n",
        "                        layers.Dense(10, activation='softmax')\n",
        "])\n",
        "\n",
        "cnn.compile(optimizer = 'adam',\n",
        "            loss = 'sparse_categorical_crossentropy',\n",
        "            metrics = ['accuracy'])\n",
        "\n",
        "cnn.fit(x_train, y_train, epochs = 10)"
      ],
      "execution_count": null,
      "outputs": [
        {
          "output_type": "stream",
          "text": [
            "Epoch 1/10\n",
            "1563/1563 [==============================] - 59s 38ms/step - loss: 1.4782 - accuracy: 0.4687\n",
            "Epoch 2/10\n",
            "1563/1563 [==============================] - 58s 37ms/step - loss: 1.1043 - accuracy: 0.6125\n",
            "Epoch 3/10\n",
            "1563/1563 [==============================] - 59s 37ms/step - loss: 0.9699 - accuracy: 0.6624\n",
            "Epoch 4/10\n",
            "1563/1563 [==============================] - 59s 37ms/step - loss: 0.8811 - accuracy: 0.6916\n",
            "Epoch 5/10\n",
            "1563/1563 [==============================] - 62s 40ms/step - loss: 0.8080 - accuracy: 0.7182\n",
            "Epoch 6/10\n",
            "1563/1563 [==============================] - 61s 39ms/step - loss: 0.7505 - accuracy: 0.7377\n",
            "Epoch 7/10\n",
            "1563/1563 [==============================] - 60s 38ms/step - loss: 0.6973 - accuracy: 0.7560\n",
            "Epoch 8/10\n",
            "1563/1563 [==============================] - 62s 39ms/step - loss: 0.6523 - accuracy: 0.7722\n",
            "Epoch 9/10\n",
            "1563/1563 [==============================] - 62s 40ms/step - loss: 0.6045 - accuracy: 0.7906\n",
            "Epoch 10/10\n",
            "1563/1563 [==============================] - 62s 40ms/step - loss: 0.5683 - accuracy: 0.8018\n"
          ],
          "name": "stdout"
        },
        {
          "output_type": "execute_result",
          "data": {
            "text/plain": [
              "<tensorflow.python.keras.callbacks.History at 0x7fbefe8f3cc0>"
            ]
          },
          "metadata": {
            "tags": []
          },
          "execution_count": 27
        }
      ]
    },
    {
      "cell_type": "code",
      "metadata": {
        "colab": {
          "base_uri": "https://localhost:8080/"
        },
        "id": "oLL8GRDKg4Co",
        "outputId": "ea6f3746-9e59-466d-ca47-d164d6278709"
      },
      "source": [
        "cnn.evaluate(x_test, y_test)"
      ],
      "execution_count": null,
      "outputs": [
        {
          "output_type": "stream",
          "text": [
            "313/313 [==============================] - 5s 15ms/step - loss: 0.9517 - accuracy: 0.6924\n"
          ],
          "name": "stdout"
        },
        {
          "output_type": "execute_result",
          "data": {
            "text/plain": [
              "[0.951682984828949, 0.6923999786376953]"
            ]
          },
          "metadata": {
            "tags": []
          },
          "execution_count": 28
        }
      ]
    },
    {
      "cell_type": "code",
      "metadata": {
        "colab": {
          "base_uri": "https://localhost:8080/"
        },
        "id": "xZPFf4awjpY3",
        "outputId": "9590ea0a-3c4a-47b6-c9aa-89b75277c3c6"
      },
      "source": [
        "y_pred2 = cnn.predict(x_test)\n",
        "y_pred_classes2 = [np.argmax(element) for element in y_pred]\n",
        "\n",
        "print(\"classification report : \\n\", classification_report(y_test,y_pred_classes))"
      ],
      "execution_count": null,
      "outputs": [
        {
          "output_type": "stream",
          "text": [
            "classification report : \n",
            "               precision    recall  f1-score   support\n",
            "\n",
            "           0       0.73      0.77      0.75      1000\n",
            "           1       0.77      0.87      0.82      1000\n",
            "           2       0.53      0.63      0.58      1000\n",
            "           3       0.54      0.45      0.49      1000\n",
            "           4       0.67      0.60      0.63      1000\n",
            "           5       0.62      0.64      0.63      1000\n",
            "           6       0.77      0.80      0.78      1000\n",
            "           7       0.74      0.79      0.76      1000\n",
            "           8       0.79      0.80      0.80      1000\n",
            "           9       0.89      0.68      0.77      1000\n",
            "\n",
            "    accuracy                           0.70     10000\n",
            "   macro avg       0.70      0.70      0.70     10000\n",
            "weighted avg       0.70      0.70      0.70     10000\n",
            "\n"
          ],
          "name": "stdout"
        }
      ]
    },
    {
      "cell_type": "code",
      "metadata": {
        "id": "wbPt_5Bikq_S"
      },
      "source": [
        ""
      ],
      "execution_count": null,
      "outputs": []
    }
  ]
}